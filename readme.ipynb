{
  "nbformat": 4,
  "nbformat_minor": 0,
  "metadata": {
    "colab": {
      "name": "readme.ipynb",
      "provenance": [],
      "collapsed_sections": [],
      "authorship_tag": "ABX9TyOAI5qcW8tHe/dsQcHe29eX",
      "include_colab_link": true
    },
    "kernelspec": {
      "name": "python3",
      "display_name": "Python 3"
    }
  },
  "cells": [
    {
      "cell_type": "markdown",
      "metadata": {
        "id": "view-in-github",
        "colab_type": "text"
      },
      "source": [
        "<a href=\"https://colab.research.google.com/github/JeongeHyoseong/ai/blob/master/readme.ipynb\" target=\"_parent\"><img src=\"https://colab.research.google.com/assets/colab-badge.svg\" alt=\"Open In Colab\"/></a>"
      ]
    },
    {
      "cell_type": "markdown",
      "metadata": {
        "id": "H9xrgoLrjNmJ",
        "colab_type": "text"
      },
      "source": [
        "#1주차 과제\n",
        "\n",
        "1. 언어 : 파파고\n",
        "2. 음성 : 시리\n",
        "3. 그림 : 퀵드로우\n",
        "4. 자율주행 : 자동주차\n",
        "\n",
        "--------------------------------------------------------------------------------\n",
        "\n",
        "<링크>\n",
        "[파파고](https://papago.naver.com/)\n",
        "[시리](https://www.apple.com/kr/)\n",
        "[퀵드로우](https://quickdraw.withgoogle.com/)\n",
        "[자동주차](https://www.genesis.com/kr/ko/models/luxury-sedan-genesis/g80/technology.html)\n",
        "\n",
        "--------------------------------------------------------------------------------\n",
        "\n",
        " 위에 제시한 4가지 서비스 모두 매우 흥미로운 기술들입니다. 파파고가 발전하면 사전이 사라질 것이고, 시리가 발전하면 키보드가 사라지는 등 많은 변화가 있을것으로 생각합니다. 저는 인공지능에 대한 배경지식과 기초지식이 부족하기 때문에 매우 기본적인 문제부터 알고리즘을 적용시키고, 해결해보는 과정을 단계별로 밟아야 할 것 같습니다. 프리과정부터 본과정까지 꾸준하게 연습해본다면 오히려 방향성이 잡히지 않을까 싶습니다."
      ]
    }
  ]
}